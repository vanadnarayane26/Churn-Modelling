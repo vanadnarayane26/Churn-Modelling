{
 "cells": [
  {
   "cell_type": "code",
   "execution_count": 1,
   "metadata": {},
   "outputs": [
    {
     "name": "stderr",
     "output_type": "stream",
     "text": [
      "Using TensorFlow backend.\n"
     ]
    }
   ],
   "source": [
    "import numpy as np\n",
    "import pandas as pd\n",
    "import keras\n",
    "from keras.models import Sequential\n",
    "from keras.layers import Dense\n",
    "from keras.wrappers.scikit_learn import KerasClassifier\n",
    "from sklearn.model_selection import cross_val_score\n",
    "from sklearn.model_selection import GridSearchCV\n",
    "import seaborn as sns"
   ]
  },
  {
   "cell_type": "code",
   "execution_count": 2,
   "metadata": {},
   "outputs": [],
   "source": [
    "df = pd.read_csv('churn_Modelling.csv')"
   ]
  },
  {
   "cell_type": "code",
   "execution_count": 3,
   "metadata": {},
   "outputs": [
    {
     "data": {
      "text/plain": [
       "(10000, 14)"
      ]
     },
     "execution_count": 3,
     "metadata": {},
     "output_type": "execute_result"
    }
   ],
   "source": [
    "df.head()\n",
    "df.shape"
   ]
  },
  {
   "cell_type": "code",
   "execution_count": 4,
   "metadata": {},
   "outputs": [],
   "source": [
    "df = df.drop(df.columns[[0,1,2]],axis = 1)"
   ]
  },
  {
   "cell_type": "code",
   "execution_count": 5,
   "metadata": {},
   "outputs": [
    {
     "data": {
      "text/html": [
       "<div>\n",
       "<style scoped>\n",
       "    .dataframe tbody tr th:only-of-type {\n",
       "        vertical-align: middle;\n",
       "    }\n",
       "\n",
       "    .dataframe tbody tr th {\n",
       "        vertical-align: top;\n",
       "    }\n",
       "\n",
       "    .dataframe thead th {\n",
       "        text-align: right;\n",
       "    }\n",
       "</style>\n",
       "<table border=\"1\" class=\"dataframe\">\n",
       "  <thead>\n",
       "    <tr style=\"text-align: right;\">\n",
       "      <th></th>\n",
       "      <th>CreditScore</th>\n",
       "      <th>Geography</th>\n",
       "      <th>Gender</th>\n",
       "      <th>Age</th>\n",
       "      <th>Tenure</th>\n",
       "      <th>Balance</th>\n",
       "      <th>NumOfProducts</th>\n",
       "      <th>HasCrCard</th>\n",
       "      <th>IsActiveMember</th>\n",
       "      <th>EstimatedSalary</th>\n",
       "      <th>Exited</th>\n",
       "    </tr>\n",
       "  </thead>\n",
       "  <tbody>\n",
       "    <tr>\n",
       "      <th>0</th>\n",
       "      <td>619</td>\n",
       "      <td>France</td>\n",
       "      <td>Female</td>\n",
       "      <td>42</td>\n",
       "      <td>2</td>\n",
       "      <td>0.00</td>\n",
       "      <td>1</td>\n",
       "      <td>1</td>\n",
       "      <td>1</td>\n",
       "      <td>101348.88</td>\n",
       "      <td>1</td>\n",
       "    </tr>\n",
       "    <tr>\n",
       "      <th>1</th>\n",
       "      <td>608</td>\n",
       "      <td>Spain</td>\n",
       "      <td>Female</td>\n",
       "      <td>41</td>\n",
       "      <td>1</td>\n",
       "      <td>83807.86</td>\n",
       "      <td>1</td>\n",
       "      <td>0</td>\n",
       "      <td>1</td>\n",
       "      <td>112542.58</td>\n",
       "      <td>0</td>\n",
       "    </tr>\n",
       "    <tr>\n",
       "      <th>2</th>\n",
       "      <td>502</td>\n",
       "      <td>France</td>\n",
       "      <td>Female</td>\n",
       "      <td>42</td>\n",
       "      <td>8</td>\n",
       "      <td>159660.80</td>\n",
       "      <td>3</td>\n",
       "      <td>1</td>\n",
       "      <td>0</td>\n",
       "      <td>113931.57</td>\n",
       "      <td>1</td>\n",
       "    </tr>\n",
       "    <tr>\n",
       "      <th>3</th>\n",
       "      <td>699</td>\n",
       "      <td>France</td>\n",
       "      <td>Female</td>\n",
       "      <td>39</td>\n",
       "      <td>1</td>\n",
       "      <td>0.00</td>\n",
       "      <td>2</td>\n",
       "      <td>0</td>\n",
       "      <td>0</td>\n",
       "      <td>93826.63</td>\n",
       "      <td>0</td>\n",
       "    </tr>\n",
       "    <tr>\n",
       "      <th>4</th>\n",
       "      <td>850</td>\n",
       "      <td>Spain</td>\n",
       "      <td>Female</td>\n",
       "      <td>43</td>\n",
       "      <td>2</td>\n",
       "      <td>125510.82</td>\n",
       "      <td>1</td>\n",
       "      <td>1</td>\n",
       "      <td>1</td>\n",
       "      <td>79084.10</td>\n",
       "      <td>0</td>\n",
       "    </tr>\n",
       "  </tbody>\n",
       "</table>\n",
       "</div>"
      ],
      "text/plain": [
       "   CreditScore Geography  Gender  Age  Tenure    Balance  NumOfProducts  \\\n",
       "0          619    France  Female   42       2       0.00              1   \n",
       "1          608     Spain  Female   41       1   83807.86              1   \n",
       "2          502    France  Female   42       8  159660.80              3   \n",
       "3          699    France  Female   39       1       0.00              2   \n",
       "4          850     Spain  Female   43       2  125510.82              1   \n",
       "\n",
       "   HasCrCard  IsActiveMember  EstimatedSalary  Exited  \n",
       "0          1               1        101348.88       1  \n",
       "1          0               1        112542.58       0  \n",
       "2          1               0        113931.57       1  \n",
       "3          0               0         93826.63       0  \n",
       "4          1               1         79084.10       0  "
      ]
     },
     "execution_count": 5,
     "metadata": {},
     "output_type": "execute_result"
    }
   ],
   "source": [
    "df.head()"
   ]
  },
  {
   "cell_type": "code",
   "execution_count": 6,
   "metadata": {},
   "outputs": [
    {
     "data": {
      "text/html": [
       "<div>\n",
       "<style scoped>\n",
       "    .dataframe tbody tr th:only-of-type {\n",
       "        vertical-align: middle;\n",
       "    }\n",
       "\n",
       "    .dataframe tbody tr th {\n",
       "        vertical-align: top;\n",
       "    }\n",
       "\n",
       "    .dataframe thead th {\n",
       "        text-align: right;\n",
       "    }\n",
       "</style>\n",
       "<table border=\"1\" class=\"dataframe\">\n",
       "  <thead>\n",
       "    <tr style=\"text-align: right;\">\n",
       "      <th></th>\n",
       "      <th>Geography_France</th>\n",
       "      <th>Geography_Germany</th>\n",
       "      <th>Geography_Spain</th>\n",
       "      <th>Gender_Female</th>\n",
       "      <th>Gender_Male</th>\n",
       "    </tr>\n",
       "  </thead>\n",
       "  <tbody>\n",
       "    <tr>\n",
       "      <th>0</th>\n",
       "      <td>1</td>\n",
       "      <td>0</td>\n",
       "      <td>0</td>\n",
       "      <td>1</td>\n",
       "      <td>0</td>\n",
       "    </tr>\n",
       "    <tr>\n",
       "      <th>1</th>\n",
       "      <td>0</td>\n",
       "      <td>0</td>\n",
       "      <td>1</td>\n",
       "      <td>1</td>\n",
       "      <td>0</td>\n",
       "    </tr>\n",
       "    <tr>\n",
       "      <th>2</th>\n",
       "      <td>1</td>\n",
       "      <td>0</td>\n",
       "      <td>0</td>\n",
       "      <td>1</td>\n",
       "      <td>0</td>\n",
       "    </tr>\n",
       "    <tr>\n",
       "      <th>3</th>\n",
       "      <td>1</td>\n",
       "      <td>0</td>\n",
       "      <td>0</td>\n",
       "      <td>1</td>\n",
       "      <td>0</td>\n",
       "    </tr>\n",
       "    <tr>\n",
       "      <th>4</th>\n",
       "      <td>0</td>\n",
       "      <td>0</td>\n",
       "      <td>1</td>\n",
       "      <td>1</td>\n",
       "      <td>0</td>\n",
       "    </tr>\n",
       "    <tr>\n",
       "      <th>...</th>\n",
       "      <td>...</td>\n",
       "      <td>...</td>\n",
       "      <td>...</td>\n",
       "      <td>...</td>\n",
       "      <td>...</td>\n",
       "    </tr>\n",
       "    <tr>\n",
       "      <th>9995</th>\n",
       "      <td>1</td>\n",
       "      <td>0</td>\n",
       "      <td>0</td>\n",
       "      <td>0</td>\n",
       "      <td>1</td>\n",
       "    </tr>\n",
       "    <tr>\n",
       "      <th>9996</th>\n",
       "      <td>1</td>\n",
       "      <td>0</td>\n",
       "      <td>0</td>\n",
       "      <td>0</td>\n",
       "      <td>1</td>\n",
       "    </tr>\n",
       "    <tr>\n",
       "      <th>9997</th>\n",
       "      <td>1</td>\n",
       "      <td>0</td>\n",
       "      <td>0</td>\n",
       "      <td>1</td>\n",
       "      <td>0</td>\n",
       "    </tr>\n",
       "    <tr>\n",
       "      <th>9998</th>\n",
       "      <td>0</td>\n",
       "      <td>1</td>\n",
       "      <td>0</td>\n",
       "      <td>0</td>\n",
       "      <td>1</td>\n",
       "    </tr>\n",
       "    <tr>\n",
       "      <th>9999</th>\n",
       "      <td>1</td>\n",
       "      <td>0</td>\n",
       "      <td>0</td>\n",
       "      <td>1</td>\n",
       "      <td>0</td>\n",
       "    </tr>\n",
       "  </tbody>\n",
       "</table>\n",
       "<p>10000 rows × 5 columns</p>\n",
       "</div>"
      ],
      "text/plain": [
       "      Geography_France  Geography_Germany  Geography_Spain  Gender_Female  \\\n",
       "0                    1                  0                0              1   \n",
       "1                    0                  0                1              1   \n",
       "2                    1                  0                0              1   \n",
       "3                    1                  0                0              1   \n",
       "4                    0                  0                1              1   \n",
       "...                ...                ...              ...            ...   \n",
       "9995                 1                  0                0              0   \n",
       "9996                 1                  0                0              0   \n",
       "9997                 1                  0                0              1   \n",
       "9998                 0                  1                0              0   \n",
       "9999                 1                  0                0              1   \n",
       "\n",
       "      Gender_Male  \n",
       "0               0  \n",
       "1               0  \n",
       "2               0  \n",
       "3               0  \n",
       "4               0  \n",
       "...           ...  \n",
       "9995            1  \n",
       "9996            1  \n",
       "9997            0  \n",
       "9998            1  \n",
       "9999            0  \n",
       "\n",
       "[10000 rows x 5 columns]"
      ]
     },
     "execution_count": 6,
     "metadata": {},
     "output_type": "execute_result"
    }
   ],
   "source": [
    "pd.get_dummies(df[['Geography','Gender']])"
   ]
  },
  {
   "cell_type": "code",
   "execution_count": 7,
   "metadata": {},
   "outputs": [],
   "source": [
    "from sklearn.preprocessing import LabelEncoder"
   ]
  },
  {
   "cell_type": "code",
   "execution_count": 8,
   "metadata": {},
   "outputs": [],
   "source": [
    "le_x = LabelEncoder()\n",
    "df['Geography'] = le_x.fit_transform(df['Geography'])\n",
    "le  = LabelEncoder()\n",
    "df['Gender'] = le.fit_transform(df['Gender'])"
   ]
  },
  {
   "cell_type": "code",
   "execution_count": 9,
   "metadata": {},
   "outputs": [
    {
     "data": {
      "text/html": [
       "<div>\n",
       "<style scoped>\n",
       "    .dataframe tbody tr th:only-of-type {\n",
       "        vertical-align: middle;\n",
       "    }\n",
       "\n",
       "    .dataframe tbody tr th {\n",
       "        vertical-align: top;\n",
       "    }\n",
       "\n",
       "    .dataframe thead th {\n",
       "        text-align: right;\n",
       "    }\n",
       "</style>\n",
       "<table border=\"1\" class=\"dataframe\">\n",
       "  <thead>\n",
       "    <tr style=\"text-align: right;\">\n",
       "      <th></th>\n",
       "      <th>CreditScore</th>\n",
       "      <th>Geography</th>\n",
       "      <th>Gender</th>\n",
       "      <th>Age</th>\n",
       "      <th>Tenure</th>\n",
       "      <th>Balance</th>\n",
       "      <th>NumOfProducts</th>\n",
       "      <th>HasCrCard</th>\n",
       "      <th>IsActiveMember</th>\n",
       "      <th>EstimatedSalary</th>\n",
       "      <th>Exited</th>\n",
       "    </tr>\n",
       "  </thead>\n",
       "  <tbody>\n",
       "    <tr>\n",
       "      <th>0</th>\n",
       "      <td>619</td>\n",
       "      <td>0</td>\n",
       "      <td>0</td>\n",
       "      <td>42</td>\n",
       "      <td>2</td>\n",
       "      <td>0.00</td>\n",
       "      <td>1</td>\n",
       "      <td>1</td>\n",
       "      <td>1</td>\n",
       "      <td>101348.88</td>\n",
       "      <td>1</td>\n",
       "    </tr>\n",
       "    <tr>\n",
       "      <th>1</th>\n",
       "      <td>608</td>\n",
       "      <td>2</td>\n",
       "      <td>0</td>\n",
       "      <td>41</td>\n",
       "      <td>1</td>\n",
       "      <td>83807.86</td>\n",
       "      <td>1</td>\n",
       "      <td>0</td>\n",
       "      <td>1</td>\n",
       "      <td>112542.58</td>\n",
       "      <td>0</td>\n",
       "    </tr>\n",
       "    <tr>\n",
       "      <th>2</th>\n",
       "      <td>502</td>\n",
       "      <td>0</td>\n",
       "      <td>0</td>\n",
       "      <td>42</td>\n",
       "      <td>8</td>\n",
       "      <td>159660.80</td>\n",
       "      <td>3</td>\n",
       "      <td>1</td>\n",
       "      <td>0</td>\n",
       "      <td>113931.57</td>\n",
       "      <td>1</td>\n",
       "    </tr>\n",
       "    <tr>\n",
       "      <th>3</th>\n",
       "      <td>699</td>\n",
       "      <td>0</td>\n",
       "      <td>0</td>\n",
       "      <td>39</td>\n",
       "      <td>1</td>\n",
       "      <td>0.00</td>\n",
       "      <td>2</td>\n",
       "      <td>0</td>\n",
       "      <td>0</td>\n",
       "      <td>93826.63</td>\n",
       "      <td>0</td>\n",
       "    </tr>\n",
       "    <tr>\n",
       "      <th>4</th>\n",
       "      <td>850</td>\n",
       "      <td>2</td>\n",
       "      <td>0</td>\n",
       "      <td>43</td>\n",
       "      <td>2</td>\n",
       "      <td>125510.82</td>\n",
       "      <td>1</td>\n",
       "      <td>1</td>\n",
       "      <td>1</td>\n",
       "      <td>79084.10</td>\n",
       "      <td>0</td>\n",
       "    </tr>\n",
       "  </tbody>\n",
       "</table>\n",
       "</div>"
      ],
      "text/plain": [
       "   CreditScore  Geography  Gender  Age  Tenure    Balance  NumOfProducts  \\\n",
       "0          619          0       0   42       2       0.00              1   \n",
       "1          608          2       0   41       1   83807.86              1   \n",
       "2          502          0       0   42       8  159660.80              3   \n",
       "3          699          0       0   39       1       0.00              2   \n",
       "4          850          2       0   43       2  125510.82              1   \n",
       "\n",
       "   HasCrCard  IsActiveMember  EstimatedSalary  Exited  \n",
       "0          1               1        101348.88       1  \n",
       "1          0               1        112542.58       0  \n",
       "2          1               0        113931.57       1  \n",
       "3          0               0         93826.63       0  \n",
       "4          1               1         79084.10       0  "
      ]
     },
     "execution_count": 9,
     "metadata": {},
     "output_type": "execute_result"
    }
   ],
   "source": [
    "df.head()"
   ]
  },
  {
   "cell_type": "code",
   "execution_count": 10,
   "metadata": {},
   "outputs": [],
   "source": [
    "y = df['Exited'].values\n",
    "df = df.drop(['Exited'],axis = 1)"
   ]
  },
  {
   "cell_type": "code",
   "execution_count": 11,
   "metadata": {},
   "outputs": [],
   "source": [
    "from sklearn.compose import make_column_transformer\n",
    "from sklearn.preprocessing import OneHotEncoder\n",
    "column_trans = make_column_transformer((OneHotEncoder(),['Geography']),remainder = 'passthrough')"
   ]
  },
  {
   "cell_type": "code",
   "execution_count": 12,
   "metadata": {},
   "outputs": [],
   "source": [
    "X = column_trans.fit_transform(df)"
   ]
  },
  {
   "cell_type": "code",
   "execution_count": 13,
   "metadata": {},
   "outputs": [],
   "source": [
    "X = X.astype(float)"
   ]
  },
  {
   "cell_type": "code",
   "execution_count": 14,
   "metadata": {},
   "outputs": [
    {
     "data": {
      "text/plain": [
       "array([[     1,      0,      0, ...,      1,      1, 101348],\n",
       "       [     0,      0,      1, ...,      0,      1, 112542],\n",
       "       [     1,      0,      0, ...,      1,      0, 113931],\n",
       "       ...,\n",
       "       [     1,      0,      0, ...,      0,      1,  42085],\n",
       "       [     0,      1,      0, ...,      1,      0,  92888],\n",
       "       [     1,      0,      0, ...,      1,      0,  38190]])"
      ]
     },
     "execution_count": 14,
     "metadata": {},
     "output_type": "execute_result"
    }
   ],
   "source": [
    "X.astype(int)"
   ]
  },
  {
   "cell_type": "code",
   "execution_count": 15,
   "metadata": {},
   "outputs": [],
   "source": [
    "X = X.astype(int)"
   ]
  },
  {
   "cell_type": "code",
   "execution_count": 16,
   "metadata": {},
   "outputs": [
    {
     "data": {
      "text/plain": [
       "array([[     1,      0,      0,    619,      0,     42,      2,      0,\n",
       "             1,      1,      1, 101348],\n",
       "       [     0,      0,      1,    608,      0,     41,      1,  83807,\n",
       "             1,      0,      1, 112542],\n",
       "       [     1,      0,      0,    502,      0,     42,      8, 159660,\n",
       "             3,      1,      0, 113931],\n",
       "       [     1,      0,      0,    699,      0,     39,      1,      0,\n",
       "             2,      0,      0,  93826],\n",
       "       [     0,      0,      1,    850,      0,     43,      2, 125510,\n",
       "             1,      1,      1,  79084]])"
      ]
     },
     "execution_count": 16,
     "metadata": {},
     "output_type": "execute_result"
    }
   ],
   "source": [
    "X[0:5]"
   ]
  },
  {
   "cell_type": "code",
   "execution_count": 17,
   "metadata": {},
   "outputs": [],
   "source": [
    "X = X[:,1:]"
   ]
  },
  {
   "cell_type": "code",
   "execution_count": 18,
   "metadata": {},
   "outputs": [
    {
     "data": {
      "text/plain": [
       "array([[     0,      0,    619,      0,     42,      2,      0,      1,\n",
       "             1,      1, 101348],\n",
       "       [     0,      1,    608,      0,     41,      1,  83807,      1,\n",
       "             0,      1, 112542],\n",
       "       [     0,      0,    502,      0,     42,      8, 159660,      3,\n",
       "             1,      0, 113931],\n",
       "       [     0,      0,    699,      0,     39,      1,      0,      2,\n",
       "             0,      0,  93826],\n",
       "       [     0,      1,    850,      0,     43,      2, 125510,      1,\n",
       "             1,      1,  79084]])"
      ]
     },
     "execution_count": 18,
     "metadata": {},
     "output_type": "execute_result"
    }
   ],
   "source": [
    "X[0:5]"
   ]
  },
  {
   "cell_type": "code",
   "execution_count": 19,
   "metadata": {},
   "outputs": [],
   "source": [
    "from sklearn.model_selection import train_test_split\n",
    "X_train,X_test,y_train,y_test = train_test_split(X,y,test_size = 0.2,random_state = 0)"
   ]
  },
  {
   "cell_type": "code",
   "execution_count": 20,
   "metadata": {},
   "outputs": [],
   "source": [
    "from sklearn.preprocessing import StandardScaler\n",
    "sc_X = StandardScaler()\n",
    "X_train = sc_X.fit_transform(X_train)\n",
    "X_test = sc_X.transform(X_test)"
   ]
  },
  {
   "cell_type": "code",
   "execution_count": 21,
   "metadata": {},
   "outputs": [
    {
     "data": {
      "text/plain": [
       "array([[-0.5698444 ,  1.74309049,  0.16958176, -1.09168714, -0.46460796,\n",
       "         0.00666099, -1.21571672,  0.8095029 ,  0.64259497, -1.03227043,\n",
       "         1.10642907],\n",
       "       [ 1.75486502, -0.57369368, -2.30455945,  0.91601335,  0.30102557,\n",
       "        -1.37744033, -0.00631522, -0.92159124,  0.64259497,  0.9687384 ,\n",
       "        -0.74865592],\n",
       "       [-0.5698444 , -0.57369368, -1.19119591, -1.09168714, -0.94312892,\n",
       "        -1.031415  ,  0.57993634, -0.92159124,  0.64259497, -1.03227043,\n",
       "         1.48532999],\n",
       "       [-0.5698444 ,  1.74309049,  0.03556578,  0.91601335,  0.10961719,\n",
       "         0.00666099,  0.47312433, -0.92159124,  0.64259497, -1.03227043,\n",
       "         1.27653473],\n",
       "       [-0.5698444 ,  1.74309049,  2.05611444, -1.09168714,  1.73658844,\n",
       "         1.04473698,  0.8101958 ,  0.8095029 ,  0.64259497,  0.9687384 ,\n",
       "         0.55837844]])"
      ]
     },
     "execution_count": 21,
     "metadata": {},
     "output_type": "execute_result"
    }
   ],
   "source": [
    "X_train.shape\n",
    "X_train[0:5]"
   ]
  },
  {
   "cell_type": "code",
   "execution_count": 22,
   "metadata": {},
   "outputs": [
    {
     "name": "stdout",
     "output_type": "stream",
     "text": [
      "Epoch 1/100\n",
      "8000/8000 [==============================] - 0s 52us/step - loss: 0.5834 - accuracy: 0.7174\n",
      "Epoch 2/100\n",
      "8000/8000 [==============================] - 1s 67us/step - loss: 0.4783 - accuracy: 0.7960\n",
      "Epoch 3/100\n",
      "8000/8000 [==============================] - 1s 67us/step - loss: 0.4566 - accuracy: 0.7960\n",
      "Epoch 4/100\n",
      "8000/8000 [==============================] - 1s 70us/step - loss: 0.4437 - accuracy: 0.7960\n",
      "Epoch 5/100\n",
      "8000/8000 [==============================] - 1s 70us/step - loss: 0.4367 - accuracy: 0.7960\n",
      "Epoch 6/100\n",
      "8000/8000 [==============================] - 1s 68us/step - loss: 0.4309 - accuracy: 0.7962\n",
      "Epoch 7/100\n",
      "8000/8000 [==============================] - 1s 71us/step - loss: 0.4214 - accuracy: 0.8069\n",
      "Epoch 8/100\n",
      "8000/8000 [==============================] - 0s 49us/step - loss: 0.4055 - accuracy: 0.8210\n",
      "Epoch 9/100\n",
      "8000/8000 [==============================] - 0s 35us/step - loss: 0.3845 - accuracy: 0.8356\n",
      "Epoch 10/100\n",
      "8000/8000 [==============================] - 0s 33us/step - loss: 0.3705 - accuracy: 0.8426\n",
      "Epoch 11/100\n",
      "8000/8000 [==============================] - 0s 33us/step - loss: 0.3643 - accuracy: 0.8466\n",
      "Epoch 12/100\n",
      "8000/8000 [==============================] - 0s 32us/step - loss: 0.3610 - accuracy: 0.8482\n",
      "Epoch 13/100\n",
      "8000/8000 [==============================] - 0s 30us/step - loss: 0.3582 - accuracy: 0.8494\n",
      "Epoch 14/100\n",
      "8000/8000 [==============================] - 0s 30us/step - loss: 0.3564 - accuracy: 0.8490\n",
      "Epoch 15/100\n",
      "8000/8000 [==============================] - 0s 56us/step - loss: 0.3537 - accuracy: 0.8530\n",
      "Epoch 16/100\n",
      "8000/8000 [==============================] - 0s 62us/step - loss: 0.3525 - accuracy: 0.8544\n",
      "Epoch 17/100\n",
      "8000/8000 [==============================] - 1s 63us/step - loss: 0.3513 - accuracy: 0.8530\n",
      "Epoch 18/100\n",
      "8000/8000 [==============================] - 0s 62us/step - loss: 0.3504 - accuracy: 0.8559\n",
      "Epoch 19/100\n",
      "8000/8000 [==============================] - 0s 53us/step - loss: 0.3494 - accuracy: 0.8560\n",
      "Epoch 20/100\n",
      "8000/8000 [==============================] - 0s 37us/step - loss: 0.3480 - accuracy: 0.8559\n",
      "Epoch 21/100\n",
      "8000/8000 [==============================] - 0s 47us/step - loss: 0.3470 - accuracy: 0.8572\n",
      "Epoch 22/100\n",
      "8000/8000 [==============================] - 0s 45us/step - loss: 0.3462 - accuracy: 0.8566\n",
      "Epoch 23/100\n",
      "8000/8000 [==============================] - 0s 46us/step - loss: 0.3455 - accuracy: 0.8572\n",
      "Epoch 24/100\n",
      "8000/8000 [==============================] - 0s 44us/step - loss: 0.3453 - accuracy: 0.8599\n",
      "Epoch 25/100\n",
      "8000/8000 [==============================] - 0s 46us/step - loss: 0.3438 - accuracy: 0.8587\n",
      "Epoch 26/100\n",
      "8000/8000 [==============================] - 0s 47us/step - loss: 0.3441 - accuracy: 0.8577\n",
      "Epoch 27/100\n",
      "8000/8000 [==============================] - 0s 45us/step - loss: 0.3429 - accuracy: 0.8594\n",
      "Epoch 28/100\n",
      "8000/8000 [==============================] - 0s 38us/step - loss: 0.3432 - accuracy: 0.8594\n",
      "Epoch 29/100\n",
      "8000/8000 [==============================] - 0s 36us/step - loss: 0.3420 - accuracy: 0.8594\n",
      "Epoch 30/100\n",
      "8000/8000 [==============================] - 0s 32us/step - loss: 0.3419 - accuracy: 0.8594\n",
      "Epoch 31/100\n",
      "8000/8000 [==============================] - 0s 33us/step - loss: 0.3412 - accuracy: 0.8593\n",
      "Epoch 32/100\n",
      "8000/8000 [==============================] - 0s 32us/step - loss: 0.3408 - accuracy: 0.8602\n",
      "Epoch 33/100\n",
      "8000/8000 [==============================] - 0s 33us/step - loss: 0.3403 - accuracy: 0.8596\n",
      "Epoch 34/100\n",
      "8000/8000 [==============================] - 0s 31us/step - loss: 0.3401 - accuracy: 0.8587\n",
      "Epoch 35/100\n",
      "8000/8000 [==============================] - 0s 33us/step - loss: 0.3396 - accuracy: 0.8602\n",
      "Epoch 36/100\n",
      "8000/8000 [==============================] - 0s 32us/step - loss: 0.3389 - accuracy: 0.8602\n",
      "Epoch 37/100\n",
      "8000/8000 [==============================] - 0s 36us/step - loss: 0.3389 - accuracy: 0.8606\n",
      "Epoch 38/100\n",
      "8000/8000 [==============================] - 0s 35us/step - loss: 0.3385 - accuracy: 0.8618\n",
      "Epoch 39/100\n",
      "8000/8000 [==============================] - 0s 34us/step - loss: 0.3376 - accuracy: 0.8597\n",
      "Epoch 40/100\n",
      "8000/8000 [==============================] - 0s 32us/step - loss: 0.3381 - accuracy: 0.8615\n",
      "Epoch 41/100\n",
      "8000/8000 [==============================] - 0s 48us/step - loss: 0.3373 - accuracy: 0.8621\n",
      "Epoch 42/100\n",
      "8000/8000 [==============================] - 1s 67us/step - loss: 0.3366 - accuracy: 0.8627\n",
      "Epoch 43/100\n",
      "8000/8000 [==============================] - 0s 48us/step - loss: 0.3360 - accuracy: 0.8615\n",
      "Epoch 44/100\n",
      "8000/8000 [==============================] - 0s 45us/step - loss: 0.3365 - accuracy: 0.8618\n",
      "Epoch 45/100\n",
      "8000/8000 [==============================] - 0s 47us/step - loss: 0.3353 - accuracy: 0.8633\n",
      "Epoch 46/100\n",
      "8000/8000 [==============================] - 0s 42us/step - loss: 0.3349 - accuracy: 0.8641\n",
      "Epoch 47/100\n",
      "8000/8000 [==============================] - 0s 39us/step - loss: 0.3349 - accuracy: 0.8624\n",
      "Epoch 48/100\n",
      "8000/8000 [==============================] - 0s 46us/step - loss: 0.3346 - accuracy: 0.8622\n",
      "Epoch 49/100\n",
      "8000/8000 [==============================] - 0s 48us/step - loss: 0.3346 - accuracy: 0.8629\n",
      "Epoch 50/100\n",
      "8000/8000 [==============================] - 0s 48us/step - loss: 0.3348 - accuracy: 0.8641\n",
      "Epoch 51/100\n",
      "8000/8000 [==============================] - 0s 39us/step - loss: 0.3337 - accuracy: 0.8636\n",
      "Epoch 52/100\n",
      "8000/8000 [==============================] - 0s 38us/step - loss: 0.3338 - accuracy: 0.8636\n",
      "Epoch 53/100\n",
      "8000/8000 [==============================] - 0s 33us/step - loss: 0.3336 - accuracy: 0.8626\n",
      "Epoch 54/100\n",
      "8000/8000 [==============================] - 0s 32us/step - loss: 0.3338 - accuracy: 0.8636\n",
      "Epoch 55/100\n",
      "8000/8000 [==============================] - 0s 34us/step - loss: 0.3333 - accuracy: 0.8629\n",
      "Epoch 56/100\n",
      "8000/8000 [==============================] - 0s 34us/step - loss: 0.3331 - accuracy: 0.8633\n",
      "Epoch 57/100\n",
      "8000/8000 [==============================] - 0s 36us/step - loss: 0.3325 - accuracy: 0.8621\n",
      "Epoch 58/100\n",
      "8000/8000 [==============================] - 0s 34us/step - loss: 0.3322 - accuracy: 0.8630\n",
      "Epoch 59/100\n",
      "8000/8000 [==============================] - 0s 56us/step - loss: 0.3318 - accuracy: 0.8631\n",
      "Epoch 60/100\n",
      "8000/8000 [==============================] - 1s 67us/step - loss: 0.3320 - accuracy: 0.8644\n",
      "Epoch 61/100\n",
      "8000/8000 [==============================] - 0s 53us/step - loss: 0.3319 - accuracy: 0.8635\n",
      "Epoch 62/100\n",
      "8000/8000 [==============================] - 0s 44us/step - loss: 0.3317 - accuracy: 0.8654\n",
      "Epoch 63/100\n",
      "8000/8000 [==============================] - 0s 41us/step - loss: 0.3316 - accuracy: 0.8645\n",
      "Epoch 64/100\n",
      "8000/8000 [==============================] - 0s 42us/step - loss: 0.3310 - accuracy: 0.8646\n",
      "Epoch 65/100\n",
      "8000/8000 [==============================] - 0s 45us/step - loss: 0.3310 - accuracy: 0.8640\n",
      "Epoch 66/100\n",
      "8000/8000 [==============================] - 0s 40us/step - loss: 0.3307 - accuracy: 0.8664\n",
      "Epoch 67/100\n",
      "8000/8000 [==============================] - 0s 35us/step - loss: 0.3306 - accuracy: 0.8652\n",
      "Epoch 68/100\n",
      "8000/8000 [==============================] - 0s 34us/step - loss: 0.3303 - accuracy: 0.8636\n",
      "Epoch 69/100\n",
      "8000/8000 [==============================] - 0s 31us/step - loss: 0.3300 - accuracy: 0.8670\n",
      "Epoch 70/100\n",
      "8000/8000 [==============================] - 0s 31us/step - loss: 0.3303 - accuracy: 0.8655\n",
      "Epoch 71/100\n",
      "8000/8000 [==============================] - 0s 32us/step - loss: 0.3300 - accuracy: 0.8646\n",
      "Epoch 72/100\n",
      "8000/8000 [==============================] - 0s 33us/step - loss: 0.3303 - accuracy: 0.8652\n",
      "Epoch 73/100\n",
      "8000/8000 [==============================] - 0s 31us/step - loss: 0.3295 - accuracy: 0.8648\n",
      "Epoch 74/100\n",
      "8000/8000 [==============================] - 0s 31us/step - loss: 0.3301 - accuracy: 0.8673\n",
      "Epoch 75/100\n",
      "8000/8000 [==============================] - 0s 44us/step - loss: 0.3295 - accuracy: 0.8658\n",
      "Epoch 76/100\n",
      "8000/8000 [==============================] - 0s 40us/step - loss: 0.3292 - accuracy: 0.8658\n",
      "Epoch 77/100\n",
      "8000/8000 [==============================] - 0s 39us/step - loss: 0.3288 - accuracy: 0.8659\n",
      "Epoch 78/100\n",
      "8000/8000 [==============================] - 0s 35us/step - loss: 0.3293 - accuracy: 0.8645\n",
      "Epoch 79/100\n"
     ]
    },
    {
     "name": "stdout",
     "output_type": "stream",
     "text": [
      "8000/8000 [==============================] - 0s 52us/step - loss: 0.3290 - accuracy: 0.8658\n",
      "Epoch 80/100\n",
      "8000/8000 [==============================] - 1s 66us/step - loss: 0.3285 - accuracy: 0.8665\n",
      "Epoch 81/100\n",
      "8000/8000 [==============================] - 1s 66us/step - loss: 0.3287 - accuracy: 0.8662\n",
      "Epoch 82/100\n",
      "8000/8000 [==============================] - 1s 66us/step - loss: 0.3295 - accuracy: 0.8646\n",
      "Epoch 83/100\n",
      "8000/8000 [==============================] - 1s 65us/step - loss: 0.3285 - accuracy: 0.8659\n",
      "Epoch 84/100\n",
      "8000/8000 [==============================] - 1s 64us/step - loss: 0.3286 - accuracy: 0.8665\n",
      "Epoch 85/100\n",
      "8000/8000 [==============================] - 1s 65us/step - loss: 0.3288 - accuracy: 0.8656\n",
      "Epoch 86/100\n",
      "8000/8000 [==============================] - 1s 64us/step - loss: 0.3284 - accuracy: 0.8652\n",
      "Epoch 87/100\n",
      "8000/8000 [==============================] - 1s 65us/step - loss: 0.3283 - accuracy: 0.8668\n",
      "Epoch 88/100\n",
      "8000/8000 [==============================] - 1s 66us/step - loss: 0.3287 - accuracy: 0.8655\n",
      "Epoch 89/100\n",
      "8000/8000 [==============================] - 1s 68us/step - loss: 0.3281 - accuracy: 0.8662\n",
      "Epoch 90/100\n",
      "8000/8000 [==============================] - 1s 67us/step - loss: 0.3279 - accuracy: 0.8652\n",
      "Epoch 91/100\n",
      "8000/8000 [==============================] - 1s 72us/step - loss: 0.3281 - accuracy: 0.8661\n",
      "Epoch 92/100\n",
      "8000/8000 [==============================] - 0s 62us/step - loss: 0.3279 - accuracy: 0.8669\n",
      "Epoch 93/100\n",
      "8000/8000 [==============================] - 0s 49us/step - loss: 0.3278 - accuracy: 0.8666\n",
      "Epoch 94/100\n",
      "8000/8000 [==============================] - 0s 46us/step - loss: 0.3281 - accuracy: 0.8671\n",
      "Epoch 95/100\n",
      "8000/8000 [==============================] - 0s 35us/step - loss: 0.3280 - accuracy: 0.8656\n",
      "Epoch 96/100\n",
      "8000/8000 [==============================] - 0s 36us/step - loss: 0.3276 - accuracy: 0.8671\n",
      "Epoch 97/100\n",
      "8000/8000 [==============================] - 0s 44us/step - loss: 0.3281 - accuracy: 0.8652\n",
      "Epoch 98/100\n",
      "8000/8000 [==============================] - 0s 45us/step - loss: 0.3276 - accuracy: 0.8670\n",
      "Epoch 99/100\n",
      "8000/8000 [==============================] - 0s 42us/step - loss: 0.3274 - accuracy: 0.8684\n",
      "Epoch 100/100\n",
      "8000/8000 [==============================] - 0s 39us/step - loss: 0.3273 - accuracy: 0.8674\n"
     ]
    },
    {
     "data": {
      "text/plain": [
       "<keras.callbacks.callbacks.History at 0x1ddab3c97f0>"
      ]
     },
     "execution_count": 22,
     "metadata": {},
     "output_type": "execute_result"
    }
   ],
   "source": [
    "classifier1 = Sequential()\n",
    "classifier1.add(Dense(units = 6,activation = 'relu',input_dim = 11))\n",
    "classifier1.add(Dense(units = 6,activation = 'relu'))\n",
    "classifier1.add(Dense(units = 6,activation = 'relu'))\n",
    "classifier1.add(Dense(units = 1,activation = 'sigmoid'))\n",
    "classifier1.compile(optimizer = 'adam',loss = 'binary_crossentropy',metrics = ['accuracy'])\n",
    "classifier1.fit(X_train,y_train,batch_size =32 ,epochs = 100)"
   ]
  },
  {
   "cell_type": "code",
   "execution_count": 23,
   "metadata": {},
   "outputs": [
    {
     "name": "stdout",
     "output_type": "stream",
     "text": [
      "[[1487  108]\n",
      " [ 184  221]]\n"
     ]
    }
   ],
   "source": [
    "from sklearn.metrics import confusion_matrix\n",
    "y_pred = classifier1.predict(X_test)\n",
    "y_pred = (y_pred>0.5)\n",
    "cm = confusion_matrix(y_test,y_pred)\n",
    "\n",
    "print(cm)"
   ]
  },
  {
   "cell_type": "code",
   "execution_count": 24,
   "metadata": {},
   "outputs": [
    {
     "data": {
      "text/plain": [
       "<AxesSubplot:>"
      ]
     },
     "execution_count": 24,
     "metadata": {},
     "output_type": "execute_result"
    },
    {
     "data": {
      "image/png": "[encoded data removed]",
      "text/plain": [
       "<Figure size 432x288 with 2 Axes>"
      ]
     },
     "metadata": {
      "needs_background": "light"
     },
     "output_type": "display_data"
    }
   ],
   "source": [
    "sns.heatmap(cm)"
   ]
  },
  {
   "cell_type": "code",
   "execution_count": 25,
   "metadata": {},
   "outputs": [],
   "source": [
    "from sklearn.metrics import classification_report"
   ]
  },
  {
   "cell_type": "code",
   "execution_count": 26,
   "metadata": {},
   "outputs": [
    {
     "name": "stdout",
     "output_type": "stream",
     "text": [
      "              precision    recall  f1-score   support\n",
      "\n",
      "           0       0.89      0.93      0.91      1595\n",
      "           1       0.67      0.55      0.60       405\n",
      "\n",
      "    accuracy                           0.85      2000\n",
      "   macro avg       0.78      0.74      0.76      2000\n",
      "weighted avg       0.85      0.85      0.85      2000\n",
      "\n"
     ]
    }
   ],
   "source": [
    "print(classification_report(y_test, y_pred))"
   ]
  }
 ],
 "metadata": {
  "_draft": {
   "nbviewer_url": "https://gist.github.com/4b60b08baba34cdc3d2eb8d24f15055a"
  },
  "gist": {
   "data": {
    "description": "ANN Churn Modelling Optimal Model.ipynb",
    "public": true
   },
   "id": "4b60b08baba34cdc3d2eb8d24f15055a"
  },
  "kernelspec": {
   "display_name": "Python 3",
   "language": "python",
   "name": "python3"
  },
  "language_info": {
   "codemirror_mode": {
    "name": "ipython",
    "version": 3
   },
   "file_extension": ".py",
   "mimetype": "text/x-python",
   "name": "python",
   "nbconvert_exporter": "python",
   "pygments_lexer": "ipython3",
   "version": "3.7.1"
  }
 },
 "nbformat": 4,
 "nbformat_minor": 4
}
